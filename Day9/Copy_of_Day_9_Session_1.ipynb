{
  "nbformat": 4,
  "nbformat_minor": 2,
  "metadata": {
    "kernelspec": {
      "name": "python3",
      "display_name": "Python 3.8.10 64-bit"
    },
    "language_info": {
      "codemirror_mode": {
        "name": "ipython",
        "version": 3
      },
      "file_extension": ".py",
      "mimetype": "text/x-python",
      "name": "python",
      "nbconvert_exporter": "python",
      "pygments_lexer": "ipython3",
      "version": "3.8.10"
    },
    "colab": {
      "name": "Copy of Day-9-Session-1.ipynb",
      "provenance": []
    },
    "interpreter": {
      "hash": "31f2aee4e71d21fbe5cf8b01ff0e069b9275f58929596ceb00d14d90e3e16cd6"
    }
  },
  "cells": [
    {
      "cell_type": "code",
      "execution_count": 1,
      "source": [
        "import numpy as np\n",
        "import pandas as pd\n",
        "import matplotlib.pyplot as plt\n",
        "\n",
        "from sklearn.linear_model import LogisticRegression\n",
        "from sklearn.model_selection import train_test_split\n",
        "from sklearn import metrics \n",
        "from sklearn.metrics import classification_report\n",
        "from sklearn.naive_bayes import GaussianNB"
      ],
      "outputs": [],
      "metadata": {
        "id": "h1I05SAbAE13"
      }
    },
    {
      "cell_type": "code",
      "execution_count": 2,
      "source": [
        "df = pd.read_csv('iris.csv',sep=',')\n",
        "\n",
        "df"
      ],
      "outputs": [
        {
          "output_type": "execute_result",
          "data": {
            "text/plain": [
              "     sepal_length  sepal_width  petal_length  petal_width  plant\n",
              "0             5.1          3.5           1.4          0.2      0\n",
              "1             4.9          3.0           1.4          0.2      0\n",
              "2             4.7          3.2           1.3          0.2      0\n",
              "3             4.6          3.1           1.5          0.2      0\n",
              "4             5.0          3.6           1.4          0.2      0\n",
              "..            ...          ...           ...          ...    ...\n",
              "145           6.7          3.0           5.2          2.3      2\n",
              "146           6.3          2.5           5.0          1.9      2\n",
              "147           6.5          3.0           5.2          2.0      2\n",
              "148           6.2          3.4           5.4          2.3      2\n",
              "149           5.9          3.0           5.1          1.8      2\n",
              "\n",
              "[150 rows x 5 columns]"
            ],
            "text/html": [
              "<div>\n",
              "<style scoped>\n",
              "    .dataframe tbody tr th:only-of-type {\n",
              "        vertical-align: middle;\n",
              "    }\n",
              "\n",
              "    .dataframe tbody tr th {\n",
              "        vertical-align: top;\n",
              "    }\n",
              "\n",
              "    .dataframe thead th {\n",
              "        text-align: right;\n",
              "    }\n",
              "</style>\n",
              "<table border=\"1\" class=\"dataframe\">\n",
              "  <thead>\n",
              "    <tr style=\"text-align: right;\">\n",
              "      <th></th>\n",
              "      <th>sepal_length</th>\n",
              "      <th>sepal_width</th>\n",
              "      <th>petal_length</th>\n",
              "      <th>petal_width</th>\n",
              "      <th>plant</th>\n",
              "    </tr>\n",
              "  </thead>\n",
              "  <tbody>\n",
              "    <tr>\n",
              "      <th>0</th>\n",
              "      <td>5.1</td>\n",
              "      <td>3.5</td>\n",
              "      <td>1.4</td>\n",
              "      <td>0.2</td>\n",
              "      <td>0</td>\n",
              "    </tr>\n",
              "    <tr>\n",
              "      <th>1</th>\n",
              "      <td>4.9</td>\n",
              "      <td>3.0</td>\n",
              "      <td>1.4</td>\n",
              "      <td>0.2</td>\n",
              "      <td>0</td>\n",
              "    </tr>\n",
              "    <tr>\n",
              "      <th>2</th>\n",
              "      <td>4.7</td>\n",
              "      <td>3.2</td>\n",
              "      <td>1.3</td>\n",
              "      <td>0.2</td>\n",
              "      <td>0</td>\n",
              "    </tr>\n",
              "    <tr>\n",
              "      <th>3</th>\n",
              "      <td>4.6</td>\n",
              "      <td>3.1</td>\n",
              "      <td>1.5</td>\n",
              "      <td>0.2</td>\n",
              "      <td>0</td>\n",
              "    </tr>\n",
              "    <tr>\n",
              "      <th>4</th>\n",
              "      <td>5.0</td>\n",
              "      <td>3.6</td>\n",
              "      <td>1.4</td>\n",
              "      <td>0.2</td>\n",
              "      <td>0</td>\n",
              "    </tr>\n",
              "    <tr>\n",
              "      <th>...</th>\n",
              "      <td>...</td>\n",
              "      <td>...</td>\n",
              "      <td>...</td>\n",
              "      <td>...</td>\n",
              "      <td>...</td>\n",
              "    </tr>\n",
              "    <tr>\n",
              "      <th>145</th>\n",
              "      <td>6.7</td>\n",
              "      <td>3.0</td>\n",
              "      <td>5.2</td>\n",
              "      <td>2.3</td>\n",
              "      <td>2</td>\n",
              "    </tr>\n",
              "    <tr>\n",
              "      <th>146</th>\n",
              "      <td>6.3</td>\n",
              "      <td>2.5</td>\n",
              "      <td>5.0</td>\n",
              "      <td>1.9</td>\n",
              "      <td>2</td>\n",
              "    </tr>\n",
              "    <tr>\n",
              "      <th>147</th>\n",
              "      <td>6.5</td>\n",
              "      <td>3.0</td>\n",
              "      <td>5.2</td>\n",
              "      <td>2.0</td>\n",
              "      <td>2</td>\n",
              "    </tr>\n",
              "    <tr>\n",
              "      <th>148</th>\n",
              "      <td>6.2</td>\n",
              "      <td>3.4</td>\n",
              "      <td>5.4</td>\n",
              "      <td>2.3</td>\n",
              "      <td>2</td>\n",
              "    </tr>\n",
              "    <tr>\n",
              "      <th>149</th>\n",
              "      <td>5.9</td>\n",
              "      <td>3.0</td>\n",
              "      <td>5.1</td>\n",
              "      <td>1.8</td>\n",
              "      <td>2</td>\n",
              "    </tr>\n",
              "  </tbody>\n",
              "</table>\n",
              "<p>150 rows × 5 columns</p>\n",
              "</div>"
            ]
          },
          "metadata": {},
          "execution_count": 2
        }
      ],
      "metadata": {
        "id": "D85fLwegAE2B",
        "colab": {
          "base_uri": "https://localhost:8080/",
          "height": 415
        },
        "outputId": "da35209e-af6e-4e01-fdf6-73c4dd34ecaf"
      }
    },
    {
      "cell_type": "code",
      "execution_count": 3,
      "source": [
        "data = np.array(df)\n",
        "x_train, x_test, y_train, y_test = train_test_split(data[:,0:4], data[:,4], test_size = .3, random_state=25)\n",
        "#print (\"x_train: \", x_train)\n",
        "#print (\"y_train: \", y_train)\n",
        "#print(\"x_test: \", x_test)\n",
        "#print (\"y_test: \", y_test)"
      ],
      "outputs": [],
      "metadata": {
        "id": "cvj8SEXQAE2O"
      }
    },
    {
      "cell_type": "code",
      "execution_count": 4,
      "source": [
        "LogReg = LogisticRegression().fit(x_train, y_train)"
      ],
      "outputs": [],
      "metadata": {
        "id": "7yF-H8h7AE2Z"
      }
    },
    {
      "cell_type": "code",
      "execution_count": 5,
      "source": [
        "y_pred = LogReg.predict(x_test)\n",
        "\n",
        "print(y_test)\n",
        "y_pred"
      ],
      "outputs": [
        {
          "output_type": "stream",
          "name": "stdout",
          "text": [
            "[0. 1. 1. 1. 2. 1. 2. 0. 1. 1. 0. 0. 0. 2. 0. 1. 2. 2. 1. 1. 1. 1. 1. 0.\n",
            " 0. 2. 1. 2. 2. 0. 1. 2. 2. 0. 2. 1. 1. 0. 0. 0. 0. 0. 0. 0. 2.]\n"
          ]
        },
        {
          "output_type": "execute_result",
          "data": {
            "text/plain": [
              "array([0., 1., 2., 1., 2., 1., 2., 0., 1., 1., 0., 0., 0., 2., 0., 1., 2.,\n",
              "       2., 1., 1., 1., 1., 1., 0., 0., 2., 1., 2., 2., 0., 1., 2., 2., 0.,\n",
              "       2., 1., 1., 0., 0., 0., 0., 0., 0., 0., 2.])"
            ]
          },
          "metadata": {},
          "execution_count": 5
        }
      ],
      "metadata": {
        "id": "gMILIZ0JAE2g",
        "colab": {
          "base_uri": "https://localhost:8080/",
          "height": 104
        },
        "outputId": "348b2920-ae0e-4b6f-8d59-ddd1e353da27"
      }
    },
    {
      "cell_type": "code",
      "execution_count": 6,
      "source": [
        "print(classification_report(y_test, y_pred))"
      ],
      "outputs": [
        {
          "output_type": "stream",
          "name": "stdout",
          "text": [
            "              precision    recall  f1-score   support\n",
            "\n",
            "         0.0       1.00      1.00      1.00        17\n",
            "         1.0       1.00      0.94      0.97        16\n",
            "         2.0       0.92      1.00      0.96        12\n",
            "\n",
            "    accuracy                           0.98        45\n",
            "   macro avg       0.97      0.98      0.98        45\n",
            "weighted avg       0.98      0.98      0.98        45\n",
            "\n"
          ]
        }
      ],
      "metadata": {
        "id": "4sJb7-MhAE2m",
        "colab": {
          "base_uri": "https://localhost:8080/",
          "height": 193
        },
        "outputId": "492c4705-19db-4abe-ed3e-1fc292e77dc5"
      }
    },
    {
      "cell_type": "code",
      "execution_count": 7,
      "source": [
        "gnb = GaussianNB().fit(x_train, y_train)"
      ],
      "outputs": [],
      "metadata": {
        "id": "RUtpQc3BAE2r"
      }
    },
    {
      "cell_type": "code",
      "execution_count": 8,
      "source": [
        "y_pred = gnb.predict(x_test)\n",
        "\n",
        "print(y_test)\n",
        "y_pred"
      ],
      "outputs": [
        {
          "output_type": "stream",
          "name": "stdout",
          "text": [
            "[0. 1. 1. 1. 2. 1. 2. 0. 1. 1. 0. 0. 0. 2. 0. 1. 2. 2. 1. 1. 1. 1. 1. 0.\n",
            " 0. 2. 1. 2. 2. 0. 1. 2. 2. 0. 2. 1. 1. 0. 0. 0. 0. 0. 0. 0. 2.]\n"
          ]
        },
        {
          "output_type": "execute_result",
          "data": {
            "text/plain": [
              "array([0., 1., 2., 1., 2., 1., 2., 0., 1., 1., 0., 0., 0., 1., 0., 1., 2.,\n",
              "       2., 1., 1., 1., 1., 1., 0., 0., 2., 1., 2., 2., 0., 1., 2., 2., 0.,\n",
              "       2., 2., 1., 0., 0., 0., 0., 0., 0., 0., 2.])"
            ]
          },
          "metadata": {},
          "execution_count": 8
        }
      ],
      "metadata": {
        "id": "eUvdeiClAE2x",
        "colab": {
          "base_uri": "https://localhost:8080/",
          "height": 104
        },
        "outputId": "58d2b5cf-b9aa-44c0-b18a-77f707dd3378"
      }
    },
    {
      "cell_type": "code",
      "execution_count": 9,
      "source": [
        "print(classification_report(y_test, y_pred))"
      ],
      "outputs": [
        {
          "output_type": "stream",
          "name": "stdout",
          "text": [
            "              precision    recall  f1-score   support\n",
            "\n",
            "         0.0       1.00      1.00      1.00        17\n",
            "         1.0       0.93      0.88      0.90        16\n",
            "         2.0       0.85      0.92      0.88        12\n",
            "\n",
            "    accuracy                           0.93        45\n",
            "   macro avg       0.93      0.93      0.93        45\n",
            "weighted avg       0.94      0.93      0.93        45\n",
            "\n"
          ]
        }
      ],
      "metadata": {
        "id": "NIcXKHSeAE23",
        "colab": {
          "base_uri": "https://localhost:8080/",
          "height": 191
        },
        "outputId": "96dc24b6-a8cb-4b6a-ecc7-e1b346b77a2e"
      }
    },
    {
      "cell_type": "code",
      "execution_count": null,
      "source": [],
      "outputs": [],
      "metadata": {
        "id": "7UZvQKJdAE27"
      }
    }
  ]
}